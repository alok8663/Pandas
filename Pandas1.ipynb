{
  "nbformat": 4,
  "nbformat_minor": 0,
  "metadata": {
    "colab": {
      "provenance": []
    },
    "kernelspec": {
      "name": "python3",
      "display_name": "Python 3"
    },
    "language_info": {
      "name": "python"
    }
  },
  "cells": [
    {
      "cell_type": "markdown",
      "source": [
        "[![Open In Colab](https://colab.research.google.com/assets/colab-badge.svg)](https://colab.research.google.com/github/alok8663/Pandas/blob/main/Pandas1.ipynb)\n"
      ],
      "metadata": {
        "id": "LWIdjkPZ6Pgp"
      }
    },
    {
      "cell_type": "markdown",
      "source": [
        "# Series"
      ],
      "metadata": {
        "id": "Gfyq2iTYIUSw"
      }
    },
    {
      "cell_type": "code",
      "execution_count": 20,
      "metadata": {
        "colab": {
          "base_uri": "https://localhost:8080/"
        },
        "id": "noNgJXYFFMEp",
        "outputId": "6e7ad70f-1949-4b61-e3ae-2d9ead6fb9eb"
      },
      "outputs": [
        {
          "output_type": "stream",
          "name": "stdout",
          "text": [
            "0    1\n",
            "1    2\n",
            "2    3\n",
            "3    4\n",
            "4    5\n",
            "dtype: int64\n",
            "<class 'pandas.core.series.Series'>\n",
            "4\n"
          ]
        }
      ],
      "source": [
        "import pandas as pd\n",
        "x=[1,2,3,4,5]\n",
        "var=pd.Series(x)\n",
        "print(var)\n",
        "print(type(var))\n",
        "print(var[3])"
      ]
    },
    {
      "cell_type": "code",
      "source": [
        "x1=[1,2,3,4,5]\n",
        "var1=pd.Series(x,index=['a','s','d','f','g'],dtype='float',name='python')\n",
        "print(var1)\n",
        "print(type(var1))\n",
        "print(var1['d'])"
      ],
      "metadata": {
        "colab": {
          "base_uri": "https://localhost:8080/"
        },
        "id": "Bnq8s11BIjCM",
        "outputId": "79225044-da78-4e5a-e830-6a7299ef7a87"
      },
      "execution_count": 21,
      "outputs": [
        {
          "output_type": "stream",
          "name": "stdout",
          "text": [
            "a    1.0\n",
            "s    2.0\n",
            "d    3.0\n",
            "f    4.0\n",
            "g    5.0\n",
            "Name: python, dtype: float64\n",
            "<class 'pandas.core.series.Series'>\n",
            "3.0\n"
          ]
        }
      ]
    },
    {
      "cell_type": "code",
      "source": [
        "dic={'name':{'python','c','java'},'por':{12,13,14,15},'rank':{1,2,3,2}}\n",
        "var2=pd.Series(dic)\n",
        "print(var2)"
      ],
      "metadata": {
        "colab": {
          "base_uri": "https://localhost:8080/"
        },
        "id": "1Ej-0BepLQPQ",
        "outputId": "ce24d1c9-8ca1-4f54-aea2-67da550bd15a"
      },
      "execution_count": 22,
      "outputs": [
        {
          "output_type": "stream",
          "name": "stdout",
          "text": [
            "name    {python, c, java}\n",
            "por      {12, 13, 14, 15}\n",
            "rank            {1, 2, 3}\n",
            "dtype: object\n"
          ]
        }
      ]
    },
    {
      "cell_type": "code",
      "source": [
        "s=pd.Series(12)\n",
        "print(s)\n",
        "print(type(s))"
      ],
      "metadata": {
        "colab": {
          "base_uri": "https://localhost:8080/"
        },
        "id": "5i2QZcKVMjpM",
        "outputId": "953d08a9-79b5-45c4-fc44-626f35f25af3"
      },
      "execution_count": 23,
      "outputs": [
        {
          "output_type": "stream",
          "name": "stdout",
          "text": [
            "0    12\n",
            "dtype: int64\n",
            "<class 'pandas.core.series.Series'>\n"
          ]
        }
      ]
    },
    {
      "cell_type": "code",
      "source": [
        "s1=pd.Series(12,index=[1,2,3,4,5,6],dtype='f')\n",
        "print(s1)\n",
        "print(type(s1))"
      ],
      "metadata": {
        "colab": {
          "base_uri": "https://localhost:8080/"
        },
        "id": "sqOhISMSM7xi",
        "outputId": "fd08a75e-5dee-4969-cf6c-450ef96aa00f"
      },
      "execution_count": 24,
      "outputs": [
        {
          "output_type": "stream",
          "name": "stdout",
          "text": [
            "1    12.0\n",
            "2    12.0\n",
            "3    12.0\n",
            "4    12.0\n",
            "5    12.0\n",
            "6    12.0\n",
            "dtype: float32\n",
            "<class 'pandas.core.series.Series'>\n"
          ]
        }
      ]
    },
    {
      "cell_type": "code",
      "source": [
        "s2=pd.Series(11,index=[1,2,3,4,5,6])\n",
        "s3=pd.Series(14,index=[1,2,3])\n",
        "print(s2+s3)"
      ],
      "metadata": {
        "colab": {
          "base_uri": "https://localhost:8080/"
        },
        "id": "dMwjxctWNcKf",
        "outputId": "9f27b05b-05b6-43dd-ed36-3162d35b47fc"
      },
      "execution_count": 25,
      "outputs": [
        {
          "output_type": "stream",
          "name": "stdout",
          "text": [
            "1    25.0\n",
            "2    25.0\n",
            "3    25.0\n",
            "4     NaN\n",
            "5     NaN\n",
            "6     NaN\n",
            "dtype: float64\n"
          ]
        }
      ]
    },
    {
      "cell_type": "markdown",
      "source": [
        "# DataFrame"
      ],
      "metadata": {
        "id": "TBej0rRGN-eP"
      }
    },
    {
      "cell_type": "code",
      "source": [
        "l=[1,2,3,4,5,6]\n",
        "var4=pd.DataFrame(l)\n",
        "print(var4)\n",
        "print(type(var4))"
      ],
      "metadata": {
        "colab": {
          "base_uri": "https://localhost:8080/"
        },
        "id": "KP4Zd9yxNpyq",
        "outputId": "8eb9bc01-03a8-4025-8ab2-75e8418ff232"
      },
      "execution_count": 26,
      "outputs": [
        {
          "output_type": "stream",
          "name": "stdout",
          "text": [
            "   0\n",
            "0  1\n",
            "1  2\n",
            "2  3\n",
            "3  4\n",
            "4  5\n",
            "5  6\n",
            "<class 'pandas.core.frame.DataFrame'>\n"
          ]
        }
      ]
    },
    {
      "cell_type": "code",
      "source": [
        "d={'a':[1,2,3,4,5],'s':[6,7,8,9,0]}\n",
        "var5=pd.DataFrame(d)\n",
        "print(var5)\n",
        "print(type(var5))"
      ],
      "metadata": {
        "colab": {
          "base_uri": "https://localhost:8080/"
        },
        "id": "HQLCTwBdTnve",
        "outputId": "2909ba2c-927d-4905-c11f-69d179c2836b"
      },
      "execution_count": 27,
      "outputs": [
        {
          "output_type": "stream",
          "name": "stdout",
          "text": [
            "   a  s\n",
            "0  1  6\n",
            "1  2  7\n",
            "2  3  8\n",
            "3  4  9\n",
            "4  5  0\n",
            "<class 'pandas.core.frame.DataFrame'>\n"
          ]
        }
      ]
    },
    {
      "cell_type": "code",
      "source": [
        "d1={'a':[1,2,3,4,5],'s':[6,7,8,9,0],'d':[3,4,5,6,7]}\n",
        "var6=pd.DataFrame(d1,columns=['a','d'],index=['a','s','d','f','g'])\n",
        "print(var6)\n",
        "print(type(var6))\n",
        "print(var6['a']['f'])    # a=column, f=row"
      ],
      "metadata": {
        "colab": {
          "base_uri": "https://localhost:8080/"
        },
        "id": "aPEQW9L1T8Xc",
        "outputId": "76b49cdc-7ae3-4168-b5d8-9b0139fbc277"
      },
      "execution_count": 28,
      "outputs": [
        {
          "output_type": "stream",
          "name": "stdout",
          "text": [
            "   a  d\n",
            "a  1  3\n",
            "s  2  4\n",
            "d  3  5\n",
            "f  4  6\n",
            "g  5  7\n",
            "<class 'pandas.core.frame.DataFrame'>\n",
            "4\n"
          ]
        }
      ]
    },
    {
      "cell_type": "code",
      "source": [
        "list=[[1,2,3,4,5],[6,7,8,9,1]]\n",
        "a=pd.DataFrame(list)\n",
        "print(a)\n",
        "print(type(a))"
      ],
      "metadata": {
        "colab": {
          "base_uri": "https://localhost:8080/"
        },
        "id": "8XgmoUqDYUn3",
        "outputId": "ad5495c1-6463-4f6f-827b-a44749fbfb88"
      },
      "execution_count": 29,
      "outputs": [
        {
          "output_type": "stream",
          "name": "stdout",
          "text": [
            "   0  1  2  3  4\n",
            "0  1  2  3  4  5\n",
            "1  6  7  8  9  1\n",
            "<class 'pandas.core.frame.DataFrame'>\n"
          ]
        }
      ]
    },
    {
      "cell_type": "code",
      "source": [
        "sr ={'s':pd.Series([1,2,3,4]),'r':pd.Series([5,6,7,8])}\n",
        "sr1=pd.DataFrame(sr)\n",
        "print(sr1)\n",
        "print(type(sr1))"
      ],
      "metadata": {
        "id": "VU2OF2vha6Pj",
        "colab": {
          "base_uri": "https://localhost:8080/"
        },
        "outputId": "0bbda932-553b-4440-8eb1-79de3480714c"
      },
      "execution_count": 30,
      "outputs": [
        {
          "output_type": "stream",
          "name": "stdout",
          "text": [
            "   s  r\n",
            "0  1  5\n",
            "1  2  6\n",
            "2  3  7\n",
            "3  4  8\n",
            "<class 'pandas.core.frame.DataFrame'>\n"
          ]
        }
      ]
    },
    {
      "cell_type": "markdown",
      "source": [
        "# Arithmetic Operations"
      ],
      "metadata": {
        "id": "14PdQzUGqVMm"
      }
    },
    {
      "cell_type": "code",
      "source": [
        "df1=pd.DataFrame({'A':[1,2,3,4,5],'B':[6,7,8,9,1]})\n",
        "print(df1)"
      ],
      "metadata": {
        "colab": {
          "base_uri": "https://localhost:8080/"
        },
        "id": "R9mYM8pmp1pD",
        "outputId": "ecb7c135-8a5a-44a1-e336-58a832c0ca20"
      },
      "execution_count": 31,
      "outputs": [
        {
          "output_type": "stream",
          "name": "stdout",
          "text": [
            "   A  B\n",
            "0  1  6\n",
            "1  2  7\n",
            "2  3  8\n",
            "3  4  9\n",
            "4  5  1\n"
          ]
        }
      ]
    },
    {
      "cell_type": "code",
      "source": [
        "df1['C']=df1['A']+df1['B']"
      ],
      "metadata": {
        "id": "k2AP9OrRrWdb"
      },
      "execution_count": 32,
      "outputs": []
    },
    {
      "cell_type": "code",
      "source": [
        "print(df1)"
      ],
      "metadata": {
        "colab": {
          "base_uri": "https://localhost:8080/"
        },
        "id": "UVJYJGrar09k",
        "outputId": "f50be0ce-02c2-4cfd-8b8f-50404c25078a"
      },
      "execution_count": 33,
      "outputs": [
        {
          "output_type": "stream",
          "name": "stdout",
          "text": [
            "   A  B   C\n",
            "0  1  6   7\n",
            "1  2  7   9\n",
            "2  3  8  11\n",
            "3  4  9  13\n",
            "4  5  1   6\n"
          ]
        }
      ]
    },
    {
      "cell_type": "code",
      "source": [
        "df1['C']=df1['A']*df1['B']"
      ],
      "metadata": {
        "id": "lCTwIKkSr2W9"
      },
      "execution_count": 18,
      "outputs": []
    },
    {
      "cell_type": "code",
      "source": [
        "print(df1)"
      ],
      "metadata": {
        "colab": {
          "base_uri": "https://localhost:8080/"
        },
        "id": "MwXs6m-nuWpU",
        "outputId": "ffb0395f-5b1e-479b-efe3-ad97e6e3a281"
      },
      "execution_count": 19,
      "outputs": [
        {
          "output_type": "stream",
          "name": "stdout",
          "text": [
            "   A  B   C\n",
            "0  1  6   6\n",
            "1  2  7  14\n",
            "2  3  8  24\n",
            "3  4  9  36\n",
            "4  5  1   5\n"
          ]
        }
      ]
    },
    {
      "cell_type": "code",
      "source": [
        "df2=pd.DataFrame({'A':[12,22,32,42,25],'B':[26,27,28,92,12]})\n",
        "print(df2)"
      ],
      "metadata": {
        "colab": {
          "base_uri": "https://localhost:8080/"
        },
        "id": "abQqEFvpuYl2",
        "outputId": "285a1c60-378d-4c28-9d78-5ccd5c8d1a20"
      },
      "execution_count": 35,
      "outputs": [
        {
          "output_type": "stream",
          "name": "stdout",
          "text": [
            "    A   B\n",
            "0  12  26\n",
            "1  22  27\n",
            "2  32  28\n",
            "3  42  92\n",
            "4  25  12\n"
          ]
        }
      ]
    },
    {
      "cell_type": "code",
      "source": [
        "df2['Result']=df2['B']>=30\n",
        "print(df2)"
      ],
      "metadata": {
        "colab": {
          "base_uri": "https://localhost:8080/"
        },
        "id": "9RY8S8bCy7-D",
        "outputId": "40f4a902-d184-4c0d-bacc-4abe43e76bc2"
      },
      "execution_count": 36,
      "outputs": [
        {
          "output_type": "stream",
          "name": "stdout",
          "text": [
            "    A   B  Result\n",
            "0  12  26   False\n",
            "1  22  27   False\n",
            "2  32  28   False\n",
            "3  42  92    True\n",
            "4  25  12   False\n"
          ]
        }
      ]
    },
    {
      "cell_type": "markdown",
      "source": [
        "# Insert"
      ],
      "metadata": {
        "id": "FwXQQG_J0O9d"
      }
    },
    {
      "cell_type": "code",
      "source": [
        "df2=pd.DataFrame({'A':[12,22,32,42,25],'B':[26,27,28,92,12]})"
      ],
      "metadata": {
        "id": "UYZbLcVWzOD0"
      },
      "execution_count": 37,
      "outputs": []
    },
    {
      "cell_type": "code",
      "source": [
        "df2.insert(2,'C',[1,2,3,4,5])\n",
        "print(df2)"
      ],
      "metadata": {
        "colab": {
          "base_uri": "https://localhost:8080/"
        },
        "id": "osvOnPFD1bQ2",
        "outputId": "45e806c7-bcd3-42b3-e149-3ef88fcc7cd2"
      },
      "execution_count": 38,
      "outputs": [
        {
          "output_type": "stream",
          "name": "stdout",
          "text": [
            "    A   B  C\n",
            "0  12  26  1\n",
            "1  22  27  2\n",
            "2  32  28  3\n",
            "3  42  92  4\n",
            "4  25  12  5\n"
          ]
        }
      ]
    },
    {
      "cell_type": "code",
      "source": [
        "df2.insert(3,'D',df2['A'])\n",
        "print(df2)"
      ],
      "metadata": {
        "colab": {
          "base_uri": "https://localhost:8080/"
        },
        "id": "tMDNPf1U1sGV",
        "outputId": "4371a705-4ad6-4324-cfbe-fe09e187c85a"
      },
      "execution_count": 39,
      "outputs": [
        {
          "output_type": "stream",
          "name": "stdout",
          "text": [
            "    A   B  C   D\n",
            "0  12  26  1  12\n",
            "1  22  27  2  22\n",
            "2  32  28  3  32\n",
            "3  42  92  4  42\n",
            "4  25  12  5  25\n"
          ]
        }
      ]
    },
    {
      "cell_type": "markdown",
      "source": [
        "# Delete"
      ],
      "metadata": {
        "id": "aXFxr_9M3vtL"
      }
    },
    {
      "cell_type": "code",
      "source": [
        "df3=pd.DataFrame({'A':[12,22,32,42,25],'B':[26,27,28,92,12],'D':[1,2,3,4,5]})\n",
        "print(df3)"
      ],
      "metadata": {
        "colab": {
          "base_uri": "https://localhost:8080/"
        },
        "id": "lgOQWruT15BU",
        "outputId": "fd2aa22c-3163-4838-ea54-dde0efd1bef3"
      },
      "execution_count": 40,
      "outputs": [
        {
          "output_type": "stream",
          "name": "stdout",
          "text": [
            "    A   B  D\n",
            "0  12  26  1\n",
            "1  22  27  2\n",
            "2  32  28  3\n",
            "3  42  92  4\n",
            "4  25  12  5\n"
          ]
        }
      ]
    },
    {
      "cell_type": "code",
      "source": [
        "df3.pop('B')\n",
        "print(df3)"
      ],
      "metadata": {
        "colab": {
          "base_uri": "https://localhost:8080/"
        },
        "id": "Vq4ExGi64-zW",
        "outputId": "e9ed3082-9c56-4e0f-ed2d-eab0c8330f29"
      },
      "execution_count": 41,
      "outputs": [
        {
          "output_type": "stream",
          "name": "stdout",
          "text": [
            "    A  D\n",
            "0  12  1\n",
            "1  22  2\n",
            "2  32  3\n",
            "3  42  4\n",
            "4  25  5\n"
          ]
        }
      ]
    },
    {
      "cell_type": "code",
      "source": [
        "df3=pd.DataFrame({'A':[12,22,32,42,25],'B':[26,27,28,92,12],'D':[1,2,3,4,5]})\n",
        "del df3['A']"
      ],
      "metadata": {
        "id": "b0O2HB6t5DRn"
      },
      "execution_count": 50,
      "outputs": []
    },
    {
      "cell_type": "code",
      "source": [
        "print(df3)"
      ],
      "metadata": {
        "colab": {
          "base_uri": "https://localhost:8080/"
        },
        "id": "IAsxtWrj5NEV",
        "outputId": "fa0a5c72-1a99-4896-9016-bc852a8ddf46"
      },
      "execution_count": 51,
      "outputs": [
        {
          "output_type": "stream",
          "name": "stdout",
          "text": [
            "    B  D\n",
            "0  26  1\n",
            "1  27  2\n",
            "2  28  3\n",
            "3  92  4\n",
            "4  12  5\n"
          ]
        }
      ]
    }
  ]
}